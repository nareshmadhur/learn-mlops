{
 "cells": [
  {
   "cell_type": "code",
   "execution_count": 2,
   "id": "c3d86e3d-5fa4-44e2-91a5-20afdaf83e80",
   "metadata": {},
   "outputs": [],
   "source": [
    "import numpy as np"
   ]
  },
  {
   "cell_type": "code",
   "execution_count": 1,
   "id": "0d40076a-a9e7-4496-870d-0d135891de7c",
   "metadata": {},
   "outputs": [],
   "source": [
    "from statsmodels.graphics.tsaplots import plot_acf, plot_pacf\n",
    "from statsmodels.tsa.arima.model import ARIMA\n",
    "from statsmodels.tsa.statespace.sarimax import SARIMAX\n",
    "from sklearn.decomposition import lin"
   ]
  },
  {
   "cell_type": "code",
   "execution_count": 4,
   "id": "5ac4317b-d8f4-4787-9b77-c6c4027edc01",
   "metadata": {},
   "outputs": [],
   "source": [
    "import pandas as pd\n",
    "import matplotlib.pyplot as plt\n",
    "import pickle"
   ]
  },
  {
   "cell_type": "code",
   "execution_count": 17,
   "id": "768ecf6d-3ded-4409-96f9-3187999eda5f",
   "metadata": {},
   "outputs": [],
   "source": [
    "with open('IDEA_NS.pkl','rb') as file:\n",
    "    raw = pickle.load(file)"
   ]
  },
  {
   "cell_type": "code",
   "execution_count": 7,
   "id": "04a60ff7-18ac-4353-9be0-5dc4be0f5003",
   "metadata": {},
   "outputs": [
    {
     "data": {
      "text/html": [
       "<div>\n",
       "<style scoped>\n",
       "    .dataframe tbody tr th:only-of-type {\n",
       "        vertical-align: middle;\n",
       "    }\n",
       "\n",
       "    .dataframe tbody tr th {\n",
       "        vertical-align: top;\n",
       "    }\n",
       "\n",
       "    .dataframe thead th {\n",
       "        text-align: right;\n",
       "    }\n",
       "</style>\n",
       "<table border=\"1\" class=\"dataframe\">\n",
       "  <thead>\n",
       "    <tr style=\"text-align: right;\">\n",
       "      <th></th>\n",
       "      <th>date</th>\n",
       "      <th>open</th>\n",
       "      <th>high</th>\n",
       "      <th>low</th>\n",
       "      <th>close</th>\n",
       "      <th>volume</th>\n",
       "      <th>adjclose</th>\n",
       "    </tr>\n",
       "  </thead>\n",
       "  <tbody>\n",
       "    <tr>\n",
       "      <th>0</th>\n",
       "      <td>2021-07-30</td>\n",
       "      <td>8.25</td>\n",
       "      <td>8.40</td>\n",
       "      <td>8.20</td>\n",
       "      <td>8.25</td>\n",
       "      <td>118879621.0</td>\n",
       "      <td>8.25</td>\n",
       "    </tr>\n",
       "    <tr>\n",
       "      <th>1</th>\n",
       "      <td>2021-07-29</td>\n",
       "      <td>8.35</td>\n",
       "      <td>8.60</td>\n",
       "      <td>8.15</td>\n",
       "      <td>8.25</td>\n",
       "      <td>208357478.0</td>\n",
       "      <td>8.25</td>\n",
       "    </tr>\n",
       "    <tr>\n",
       "      <th>2</th>\n",
       "      <td>2021-07-28</td>\n",
       "      <td>8.45</td>\n",
       "      <td>8.75</td>\n",
       "      <td>8.20</td>\n",
       "      <td>8.35</td>\n",
       "      <td>268614790.0</td>\n",
       "      <td>8.35</td>\n",
       "    </tr>\n",
       "    <tr>\n",
       "      <th>3</th>\n",
       "      <td>2021-07-27</td>\n",
       "      <td>8.30</td>\n",
       "      <td>8.50</td>\n",
       "      <td>8.30</td>\n",
       "      <td>8.40</td>\n",
       "      <td>141166507.0</td>\n",
       "      <td>8.40</td>\n",
       "    </tr>\n",
       "    <tr>\n",
       "      <th>4</th>\n",
       "      <td>2021-07-26</td>\n",
       "      <td>8.35</td>\n",
       "      <td>8.50</td>\n",
       "      <td>8.10</td>\n",
       "      <td>8.30</td>\n",
       "      <td>219484526.0</td>\n",
       "      <td>8.30</td>\n",
       "    </tr>\n",
       "  </tbody>\n",
       "</table>\n",
       "</div>"
      ],
      "text/plain": [
       "        date  open  high   low  close       volume  adjclose\n",
       "0 2021-07-30  8.25  8.40  8.20   8.25  118879621.0      8.25\n",
       "1 2021-07-29  8.35  8.60  8.15   8.25  208357478.0      8.25\n",
       "2 2021-07-28  8.45  8.75  8.20   8.35  268614790.0      8.35\n",
       "3 2021-07-27  8.30  8.50  8.30   8.40  141166507.0      8.40\n",
       "4 2021-07-26  8.35  8.50  8.10   8.30  219484526.0      8.30"
      ]
     },
     "execution_count": 7,
     "metadata": {},
     "output_type": "execute_result"
    }
   ],
   "source": [
    "raw.head()"
   ]
  },
  {
   "cell_type": "code",
   "execution_count": 19,
   "id": "0d72fabc-3003-4d7f-9d55-b3e78343bece",
   "metadata": {},
   "outputs": [
    {
     "data": {
      "text/html": [
       "<div>\n",
       "<style scoped>\n",
       "    .dataframe tbody tr th:only-of-type {\n",
       "        vertical-align: middle;\n",
       "    }\n",
       "\n",
       "    .dataframe tbody tr th {\n",
       "        vertical-align: top;\n",
       "    }\n",
       "\n",
       "    .dataframe thead th {\n",
       "        text-align: right;\n",
       "    }\n",
       "</style>\n",
       "<table border=\"1\" class=\"dataframe\">\n",
       "  <thead>\n",
       "    <tr style=\"text-align: right;\">\n",
       "      <th></th>\n",
       "      <th>open</th>\n",
       "      <th>high</th>\n",
       "      <th>low</th>\n",
       "      <th>close</th>\n",
       "      <th>volume</th>\n",
       "      <th>adjclose</th>\n",
       "    </tr>\n",
       "    <tr>\n",
       "      <th>date</th>\n",
       "      <th></th>\n",
       "      <th></th>\n",
       "      <th></th>\n",
       "      <th></th>\n",
       "      <th></th>\n",
       "      <th></th>\n",
       "    </tr>\n",
       "  </thead>\n",
       "  <tbody>\n",
       "    <tr>\n",
       "      <th>2021-07-30</th>\n",
       "      <td>8.25</td>\n",
       "      <td>8.40</td>\n",
       "      <td>8.20</td>\n",
       "      <td>8.25</td>\n",
       "      <td>118879621.0</td>\n",
       "      <td>8.25</td>\n",
       "    </tr>\n",
       "    <tr>\n",
       "      <th>2021-07-29</th>\n",
       "      <td>8.35</td>\n",
       "      <td>8.60</td>\n",
       "      <td>8.15</td>\n",
       "      <td>8.25</td>\n",
       "      <td>208357478.0</td>\n",
       "      <td>8.25</td>\n",
       "    </tr>\n",
       "    <tr>\n",
       "      <th>2021-07-28</th>\n",
       "      <td>8.45</td>\n",
       "      <td>8.75</td>\n",
       "      <td>8.20</td>\n",
       "      <td>8.35</td>\n",
       "      <td>268614790.0</td>\n",
       "      <td>8.35</td>\n",
       "    </tr>\n",
       "    <tr>\n",
       "      <th>2021-07-27</th>\n",
       "      <td>8.30</td>\n",
       "      <td>8.50</td>\n",
       "      <td>8.30</td>\n",
       "      <td>8.40</td>\n",
       "      <td>141166507.0</td>\n",
       "      <td>8.40</td>\n",
       "    </tr>\n",
       "    <tr>\n",
       "      <th>2021-07-26</th>\n",
       "      <td>8.35</td>\n",
       "      <td>8.50</td>\n",
       "      <td>8.10</td>\n",
       "      <td>8.30</td>\n",
       "      <td>219484526.0</td>\n",
       "      <td>8.30</td>\n",
       "    </tr>\n",
       "  </tbody>\n",
       "</table>\n",
       "</div>"
      ],
      "text/plain": [
       "            open  high   low  close       volume  adjclose\n",
       "date                                                      \n",
       "2021-07-30  8.25  8.40  8.20   8.25  118879621.0      8.25\n",
       "2021-07-29  8.35  8.60  8.15   8.25  208357478.0      8.25\n",
       "2021-07-28  8.45  8.75  8.20   8.35  268614790.0      8.35\n",
       "2021-07-27  8.30  8.50  8.30   8.40  141166507.0      8.40\n",
       "2021-07-26  8.35  8.50  8.10   8.30  219484526.0      8.30"
      ]
     },
     "execution_count": 19,
     "metadata": {},
     "output_type": "execute_result"
    }
   ],
   "source": [
    "df = raw.set_index('date')\n",
    "df.head()"
   ]
  },
  {
   "cell_type": "code",
   "execution_count": 23,
   "id": "93d4c807-e0d9-4752-b5f1-dad2e739449d",
   "metadata": {},
   "outputs": [
    {
     "data": {
      "text/html": [
       "<div>\n",
       "<style scoped>\n",
       "    .dataframe tbody tr th:only-of-type {\n",
       "        vertical-align: middle;\n",
       "    }\n",
       "\n",
       "    .dataframe tbody tr th {\n",
       "        vertical-align: top;\n",
       "    }\n",
       "\n",
       "    .dataframe thead th {\n",
       "        text-align: right;\n",
       "    }\n",
       "</style>\n",
       "<table border=\"1\" class=\"dataframe\">\n",
       "  <thead>\n",
       "    <tr style=\"text-align: right;\">\n",
       "      <th></th>\n",
       "      <th>open</th>\n",
       "      <th>high</th>\n",
       "      <th>low</th>\n",
       "      <th>close</th>\n",
       "      <th>volume</th>\n",
       "      <th>adjclose</th>\n",
       "    </tr>\n",
       "  </thead>\n",
       "  <tbody>\n",
       "    <tr>\n",
       "      <th>2020-07-30</th>\n",
       "      <td>8.25</td>\n",
       "      <td>8.50</td>\n",
       "      <td>7.95</td>\n",
       "      <td>8.0</td>\n",
       "      <td>293048882.0</td>\n",
       "      <td>8.0</td>\n",
       "    </tr>\n",
       "    <tr>\n",
       "      <th>2020-07-31</th>\n",
       "      <td>8.10</td>\n",
       "      <td>8.50</td>\n",
       "      <td>8.10</td>\n",
       "      <td>8.4</td>\n",
       "      <td>340455059.0</td>\n",
       "      <td>8.4</td>\n",
       "    </tr>\n",
       "    <tr>\n",
       "      <th>2020-08-01</th>\n",
       "      <td>NaN</td>\n",
       "      <td>NaN</td>\n",
       "      <td>NaN</td>\n",
       "      <td>NaN</td>\n",
       "      <td>NaN</td>\n",
       "      <td>NaN</td>\n",
       "    </tr>\n",
       "    <tr>\n",
       "      <th>2020-08-02</th>\n",
       "      <td>NaN</td>\n",
       "      <td>NaN</td>\n",
       "      <td>NaN</td>\n",
       "      <td>NaN</td>\n",
       "      <td>NaN</td>\n",
       "      <td>NaN</td>\n",
       "    </tr>\n",
       "    <tr>\n",
       "      <th>2020-08-03</th>\n",
       "      <td>8.40</td>\n",
       "      <td>8.85</td>\n",
       "      <td>8.00</td>\n",
       "      <td>8.7</td>\n",
       "      <td>422266642.0</td>\n",
       "      <td>8.7</td>\n",
       "    </tr>\n",
       "  </tbody>\n",
       "</table>\n",
       "</div>"
      ],
      "text/plain": [
       "            open  high   low  close       volume  adjclose\n",
       "2020-07-30  8.25  8.50  7.95    8.0  293048882.0       8.0\n",
       "2020-07-31  8.10  8.50  8.10    8.4  340455059.0       8.4\n",
       "2020-08-01   NaN   NaN   NaN    NaN          NaN       NaN\n",
       "2020-08-02   NaN   NaN   NaN    NaN          NaN       NaN\n",
       "2020-08-03  8.40  8.85  8.00    8.7  422266642.0       8.7"
      ]
     },
     "execution_count": 23,
     "metadata": {},
     "output_type": "execute_result"
    }
   ],
   "source": [
    "df_dti = df.reindex(pd.date_range(df.index.min(), df.index.max()), fill_value=None)\n",
    "df_dti.head()"
   ]
  },
  {
   "cell_type": "code",
   "execution_count": 25,
   "id": "478fec8b-3617-4e84-9e46-584b819576e0",
   "metadata": {},
   "outputs": [
    {
     "data": {
      "text/html": [
       "<div>\n",
       "<style scoped>\n",
       "    .dataframe tbody tr th:only-of-type {\n",
       "        vertical-align: middle;\n",
       "    }\n",
       "\n",
       "    .dataframe tbody tr th {\n",
       "        vertical-align: top;\n",
       "    }\n",
       "\n",
       "    .dataframe thead th {\n",
       "        text-align: right;\n",
       "    }\n",
       "</style>\n",
       "<table border=\"1\" class=\"dataframe\">\n",
       "  <thead>\n",
       "    <tr style=\"text-align: right;\">\n",
       "      <th></th>\n",
       "      <th>close</th>\n",
       "    </tr>\n",
       "  </thead>\n",
       "  <tbody>\n",
       "    <tr>\n",
       "      <th>2020-07-30</th>\n",
       "      <td>8.0</td>\n",
       "    </tr>\n",
       "    <tr>\n",
       "      <th>2020-07-31</th>\n",
       "      <td>8.4</td>\n",
       "    </tr>\n",
       "    <tr>\n",
       "      <th>2020-08-01</th>\n",
       "      <td>NaN</td>\n",
       "    </tr>\n",
       "    <tr>\n",
       "      <th>2020-08-02</th>\n",
       "      <td>NaN</td>\n",
       "    </tr>\n",
       "    <tr>\n",
       "      <th>2020-08-03</th>\n",
       "      <td>8.7</td>\n",
       "    </tr>\n",
       "  </tbody>\n",
       "</table>\n",
       "</div>"
      ],
      "text/plain": [
       "            close\n",
       "2020-07-30    8.0\n",
       "2020-07-31    8.4\n",
       "2020-08-01    NaN\n",
       "2020-08-02    NaN\n",
       "2020-08-03    8.7"
      ]
     },
     "execution_count": 25,
     "metadata": {},
     "output_type": "execute_result"
    }
   ],
   "source": [
    "ts=df_dti[['close']]\n",
    "ts.head()"
   ]
  },
  {
   "cell_type": "code",
   "execution_count": 31,
   "id": "1a872b74-33cf-4d46-9853-fd0dcf532d06",
   "metadata": {},
   "outputs": [
    {
     "data": {
      "text/plain": [
       "<AxesSubplot:>"
      ]
     },
     "execution_count": 31,
     "metadata": {},
     "output_type": "execute_result"
    },
    {
     "data": {
      "image/png": "[encoded data removed]",
      "text/plain": [
       "<Figure size 432x288 with 1 Axes>"
      ]
     },
     "metadata": {
      "needs_background": "light"
     },
     "output_type": "display_data"
    }
   ],
   "source": [
    "ts.plot()"
   ]
  },
  {
   "cell_type": "code",
   "execution_count": 61,
   "id": "4d7b109c-91b8-489f-9cbd-5dcee26c2cbd",
   "metadata": {},
   "outputs": [
    {
     "name": "stderr",
     "output_type": "stream",
     "text": [
      "/Users/nareshmadhur/miniforge3/envs/BasicML/lib/python3.9/site-packages/pandas/core/generic.py:6383: SettingWithCopyWarning: \n",
      "A value is trying to be set on a copy of a slice from a DataFrame\n",
      "\n",
      "See the caveats in the documentation: https://pandas.pydata.org/pandas-docs/stable/user_guide/indexing.html#returning-a-view-versus-a-copy\n",
      "  return self._update_inplace(result)\n"
     ]
    }
   ],
   "source": [
    "ts.close.fillna(ts.close.rolling(window=14, min_periods=2).mean(),inplace = True)"
   ]
  },
  {
   "cell_type": "code",
   "execution_count": 62,
   "id": "dc7d563d-b1b3-4cdc-a792-66ba883ac531",
   "metadata": {},
   "outputs": [
    {
     "data": {
      "text/plain": [
       "<AxesSubplot:>"
      ]
     },
     "execution_count": 62,
     "metadata": {},
     "output_type": "execute_result"
    },
    {
     "data": {
      "image/png": "[encoded data removed]",
      "text/plain": [
       "<Figure size 432x288 with 1 Axes>"
      ]
     },
     "metadata": {
      "needs_background": "light"
     },
     "output_type": "display_data"
    }
   ],
   "source": [
    "ts.plot()"
   ]
  },
  {
   "cell_type": "code",
   "execution_count": null,
   "id": "44101291-429f-4bf4-8a5e-3be951814c17",
   "metadata": {},
   "outputs": [],
   "source": []
  }
 ],
 "metadata": {
  "kernelspec": {
   "display_name": "Python 3 (ipykernel)",
   "language": "python",
   "name": "python3"
  },
  "language_info": {
   "codemirror_mode": {
    "name": "ipython",
    "version": 3
   },
   "file_extension": ".py",
   "mimetype": "text/x-python",
   "name": "python",
   "nbconvert_exporter": "python",
   "pygments_lexer": "ipython3",
   "version": "3.9.6"
  }
 },
 "nbformat": 4,
 "nbformat_minor": 5
}
